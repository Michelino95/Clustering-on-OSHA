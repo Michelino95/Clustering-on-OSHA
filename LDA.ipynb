{
 "cells": [
  {
   "cell_type": "code",
   "execution_count": 1,
   "metadata": {},
   "outputs": [],
   "source": [
    "import pandas as pd\n",
    "from sklearn.feature_extraction.text import TfidfVectorizer, CountVectorizer\n",
    "from sklearn.decomposition import NMF, LatentDirichletAllocation\n",
    "import ast\n"
   ]
  },
  {
   "cell_type": "code",
   "execution_count": 56,
   "metadata": {},
   "outputs": [],
   "source": [
    "clusters = 6  #By performing the algorithms several times\n",
    "              #6 clusters gave best results"
   ]
  },
  {
   "cell_type": "code",
   "execution_count": 48,
   "metadata": {},
   "outputs": [],
   "source": [
    "def print_top_words(model, feature_names, n_top_words):\n",
    "    for topic_idx, topic in enumerate(model.components_):\n",
    "        message = \"Topic #%d: \" % topic_idx\n",
    "        message += \" \".join([feature_names[i]\n",
    "                             for i in topic.argsort()[:-n_top_words - 1:-1]])\n",
    "        print(message)\n",
    "    print()"
   ]
  },
  {
   "cell_type": "code",
   "execution_count": 49,
   "metadata": {},
   "outputs": [],
   "source": [
    "def f(words):\n",
    "    words = ast.literal_eval(words)\n",
    "    next_words = words[1:]\n",
    "    double = list(zip(words, next_words))\n",
    "    couple = [x + '_' + y for x, y in double]\n",
    "    return couple\n"
   ]
  },
  {
   "cell_type": "code",
   "execution_count": 50,
   "metadata": {},
   "outputs": [
    {
     "data": {
      "text/html": [
       "<div>\n",
       "<style scoped>\n",
       "    .dataframe tbody tr th:only-of-type {\n",
       "        vertical-align: middle;\n",
       "    }\n",
       "\n",
       "    .dataframe tbody tr th {\n",
       "        vertical-align: top;\n",
       "    }\n",
       "\n",
       "    .dataframe thead th {\n",
       "        text-align: right;\n",
       "    }\n",
       "</style>\n",
       "<table border=\"1\" class=\"dataframe\">\n",
       "  <thead>\n",
       "    <tr style=\"text-align: right;\">\n",
       "      <th></th>\n",
       "      <th>Unnamed: 0</th>\n",
       "      <th>summary_nr</th>\n",
       "      <th>event_date</th>\n",
       "      <th>event_desc</th>\n",
       "      <th>event_keyword</th>\n",
       "      <th>const_end_use</th>\n",
       "      <th>build_stories</th>\n",
       "      <th>nonbuild_ht</th>\n",
       "      <th>project_cost</th>\n",
       "      <th>project_type</th>\n",
       "      <th>sic_list</th>\n",
       "      <th>fatality</th>\n",
       "      <th>load_dt</th>\n",
       "      <th>abstract_text</th>\n",
       "    </tr>\n",
       "  </thead>\n",
       "  <tbody>\n",
       "    <tr>\n",
       "      <th>0</th>\n",
       "      <td>0</td>\n",
       "      <td>656124</td>\n",
       "      <td>2000-01-27 12:22:00</td>\n",
       "      <td>Employee's leg injured by falling load of trusses</td>\n",
       "      <td>['UNSECURED', 'LOAD SHIFT', 'CONSTRUCTION', 'F...</td>\n",
       "      <td>B</td>\n",
       "      <td>2.0</td>\n",
       "      <td>12.0</td>\n",
       "      <td>D</td>\n",
       "      <td>A</td>\n",
       "      <td>1522.0</td>\n",
       "      <td>False</td>\n",
       "      <td>2019-01-28 00:18:04 EST</td>\n",
       "      <td>['standing', 'atop', 'load', 'roof', 'truss', ...</td>\n",
       "    </tr>\n",
       "    <tr>\n",
       "      <th>1</th>\n",
       "      <td>1</td>\n",
       "      <td>656132</td>\n",
       "      <td>2000-02-24 14:00:00</td>\n",
       "      <td>Employee injured in fall from scaffold</td>\n",
       "      <td>['IRON WORKER', 'WORK RULES', 'CONSTRUCTION', ...</td>\n",
       "      <td>H</td>\n",
       "      <td>2.0</td>\n",
       "      <td>35.0</td>\n",
       "      <td>E</td>\n",
       "      <td>A</td>\n",
       "      <td>1791.0</td>\n",
       "      <td>False</td>\n",
       "      <td>2019-01-28 00:18:04 EST</td>\n",
       "      <td>['iron', 'climbed', 'basket', 'articulating', ...</td>\n",
       "    </tr>\n",
       "    <tr>\n",
       "      <th>2</th>\n",
       "      <td>2</td>\n",
       "      <td>656140</td>\n",
       "      <td>2000-09-28 10:30:00</td>\n",
       "      <td>Employee injured in fall from edge of second f...</td>\n",
       "      <td>['GUARDRAIL', 'WORK RULES', 'PERIMETER GUARDIN...</td>\n",
       "      <td>H</td>\n",
       "      <td>2.0</td>\n",
       "      <td>30.0</td>\n",
       "      <td>F</td>\n",
       "      <td>A</td>\n",
       "      <td>1791.0</td>\n",
       "      <td>False</td>\n",
       "      <td>2019-01-28 00:18:04 EST</td>\n",
       "      <td>['welding', 'stop', 'edge', 'second', 'floor',...</td>\n",
       "    </tr>\n",
       "    <tr>\n",
       "      <th>3</th>\n",
       "      <td>3</td>\n",
       "      <td>656165</td>\n",
       "      <td>2000-10-16 13:00:00</td>\n",
       "      <td>Two employees injured in fall when scaffold ov...</td>\n",
       "      <td>['ROOF', 'WORK RULES', 'SLIP', 'CONSTRUCTION',...</td>\n",
       "      <td>A</td>\n",
       "      <td>2.0</td>\n",
       "      <td>36.0</td>\n",
       "      <td>A</td>\n",
       "      <td>C</td>\n",
       "      <td>1741.0</td>\n",
       "      <td>False</td>\n",
       "      <td>2019-01-28 00:18:04 EST</td>\n",
       "      <td>['standing', 'wooden', 'ramp', 'leading', 'top...</td>\n",
       "    </tr>\n",
       "    <tr>\n",
       "      <th>4</th>\n",
       "      <td>4</td>\n",
       "      <td>656181</td>\n",
       "      <td>2000-05-24 11:00:00</td>\n",
       "      <td>Employee injured in fall when support plank gi...</td>\n",
       "      <td>['INSTALLING', 'WORK RULES', 'CONSTRUCTION', '...</td>\n",
       "      <td>A</td>\n",
       "      <td>2.0</td>\n",
       "      <td>15.0</td>\n",
       "      <td>B</td>\n",
       "      <td>A</td>\n",
       "      <td>1751.0</td>\n",
       "      <td>False</td>\n",
       "      <td>2019-01-28 00:18:04 EST</td>\n",
       "      <td>['standing', 'long', 'support', 'plank', 'seco...</td>\n",
       "    </tr>\n",
       "  </tbody>\n",
       "</table>\n",
       "</div>"
      ],
      "text/plain": [
       "   Unnamed: 0  summary_nr           event_date  \\\n",
       "0           0      656124  2000-01-27 12:22:00   \n",
       "1           1      656132  2000-02-24 14:00:00   \n",
       "2           2      656140  2000-09-28 10:30:00   \n",
       "3           3      656165  2000-10-16 13:00:00   \n",
       "4           4      656181  2000-05-24 11:00:00   \n",
       "\n",
       "                                          event_desc  \\\n",
       "0  Employee's leg injured by falling load of trusses   \n",
       "1             Employee injured in fall from scaffold   \n",
       "2  Employee injured in fall from edge of second f...   \n",
       "3  Two employees injured in fall when scaffold ov...   \n",
       "4  Employee injured in fall when support plank gi...   \n",
       "\n",
       "                                       event_keyword const_end_use  \\\n",
       "0  ['UNSECURED', 'LOAD SHIFT', 'CONSTRUCTION', 'F...             B   \n",
       "1  ['IRON WORKER', 'WORK RULES', 'CONSTRUCTION', ...             H   \n",
       "2  ['GUARDRAIL', 'WORK RULES', 'PERIMETER GUARDIN...             H   \n",
       "3  ['ROOF', 'WORK RULES', 'SLIP', 'CONSTRUCTION',...             A   \n",
       "4  ['INSTALLING', 'WORK RULES', 'CONSTRUCTION', '...             A   \n",
       "\n",
       "   build_stories  nonbuild_ht project_cost project_type  sic_list  fatality  \\\n",
       "0            2.0         12.0            D            A    1522.0     False   \n",
       "1            2.0         35.0            E            A    1791.0     False   \n",
       "2            2.0         30.0            F            A    1791.0     False   \n",
       "3            2.0         36.0            A            C    1741.0     False   \n",
       "4            2.0         15.0            B            A    1751.0     False   \n",
       "\n",
       "                   load_dt                                      abstract_text  \n",
       "0  2019-01-28 00:18:04 EST  ['standing', 'atop', 'load', 'roof', 'truss', ...  \n",
       "1  2019-01-28 00:18:04 EST  ['iron', 'climbed', 'basket', 'articulating', ...  \n",
       "2  2019-01-28 00:18:04 EST  ['welding', 'stop', 'edge', 'second', 'floor',...  \n",
       "3  2019-01-28 00:18:04 EST  ['standing', 'wooden', 'ramp', 'leading', 'top...  \n",
       "4  2019-01-28 00:18:04 EST  ['standing', 'long', 'support', 'plank', 'seco...  "
      ]
     },
     "execution_count": 50,
     "metadata": {},
     "output_type": "execute_result"
    }
   ],
   "source": [
    "df = pd.read_csv(\"processed_stop.csv\")\n",
    "df.head()"
   ]
  },
  {
   "cell_type": "code",
   "execution_count": 51,
   "metadata": {},
   "outputs": [],
   "source": [
    "vectorizer =TfidfVectorizer(max_df=0.9)"
   ]
  },
  {
   "cell_type": "code",
   "execution_count": 52,
   "metadata": {},
   "outputs": [
    {
     "name": "stderr",
     "output_type": "stream",
     "text": [
      "/anaconda3/lib/python3.7/site-packages/ipykernel_launcher.py:3: SettingWithCopyWarning: \n",
      "A value is trying to be set on a copy of a slice from a DataFrame.\n",
      "Try using .loc[row_indexer,col_indexer] = value instead\n",
      "\n",
      "See the caveats in the documentation: http://pandas.pydata.org/pandas-docs/stable/indexing.html#indexing-view-versus-copy\n",
      "  This is separate from the ipykernel package so we can avoid doing imports until\n",
      "/anaconda3/lib/python3.7/site-packages/ipykernel_launcher.py:4: SettingWithCopyWarning: \n",
      "A value is trying to be set on a copy of a slice from a DataFrame.\n",
      "Try using .loc[row_indexer,col_indexer] = value instead\n",
      "\n",
      "See the caveats in the documentation: http://pandas.pydata.org/pandas-docs/stable/indexing.html#indexing-view-versus-copy\n",
      "  after removing the cwd from sys.path.\n"
     ]
    }
   ],
   "source": [
    "#vectorize documents only fatal incidents\n",
    "n_fatal = df[df[\"fatality\"]==True]\n",
    "n_fatal[\"abstract_text\"]=n_fatal[\"abstract_text\"].apply(f)\n",
    "n_fatal[\"abstract_text\"]=n_fatal[\"abstract_text\"].apply(lambda x: str(' '.join(x)))\n"
   ]
  },
  {
   "cell_type": "code",
   "execution_count": 53,
   "metadata": {},
   "outputs": [],
   "source": [
    "x = vectorizer.fit_transform(n_fatal[\"abstract_text\"])\n"
   ]
  },
  {
   "cell_type": "code",
   "execution_count": 57,
   "metadata": {},
   "outputs": [],
   "source": [
    "lda = LatentDirichletAllocation(n_components=clusters,\n",
    "learning_method='online',learning_offset=30.).fit(x)\n"
   ]
  },
  {
   "cell_type": "code",
   "execution_count": 58,
   "metadata": {},
   "outputs": [
    {
     "name": "stdout",
     "output_type": "stream",
     "text": [
      "Topic #0: power_line overhead_power aerial_lift line_electrocuted contacted_overhead\n",
      "Topic #1: carbon_monoxide struck_bulldozer struck_object methylene_chloride conveyor_belt\n",
      "Topic #2: run_truck motor_grader lost_control road_grader struck_run\n",
      "Topic #3: fell_ground fall_protection fell_roof heart_attack fell_ladder\n",
      "Topic #4: dump_truck truck_driver struck_vehicle skid_steer pickup_truck\n",
      "Topic #5: trench_box wall_collapsed working_trench track_hoe sewer_line\n",
      "\n"
     ]
    }
   ],
   "source": [
    "tf_feature_names = vectorizer.get_feature_names()\n",
    "print_top_words(lda, tf_feature_names, 5)"
   ]
  },
  {
   "cell_type": "markdown",
   "metadata": {},
   "source": []
  },
  {
   "cell_type": "code",
   "execution_count": null,
   "metadata": {},
   "outputs": [],
   "source": []
  }
 ],
 "metadata": {
  "kernelspec": {
   "display_name": "Python 3",
   "language": "python",
   "name": "python3"
  },
  "language_info": {
   "codemirror_mode": {
    "name": "ipython",
    "version": 3
   },
   "file_extension": ".py",
   "mimetype": "text/x-python",
   "name": "python",
   "nbconvert_exporter": "python",
   "pygments_lexer": "ipython3",
   "version": "3.7.1"
  }
 },
 "nbformat": 4,
 "nbformat_minor": 2
}
